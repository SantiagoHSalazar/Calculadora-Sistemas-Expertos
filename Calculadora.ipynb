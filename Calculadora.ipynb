{
  "nbformat": 4,
  "nbformat_minor": 0,
  "metadata": {
    "colab": {
      "name": "Untitled0.ipynb",
      "provenance": []
    },
    "kernelspec": {
      "name": "python3",
      "display_name": "Python 3"
    }
  },
  "cells": [
    {
      "cell_type": "code",
      "metadata": {
        "id": "7FREI5DZs7XY",
        "colab_type": "code",
        "colab": {}
      },
      "source": [
        "def Menu():\n",
        "    print (\"\"\"\n",
        "MENU\n",
        "\n",
        "\n",
        "1) Suma\n",
        "2) Resta\n",
        "3) Multiplicacion\n",
        "4) Division\n",
        "5) Salir\"\"\")\n",
        "def Calculadora():\n",
        "    Menu()\n",
        "    opc = int(input(\"Selecione Opcion\\n\"))\n",
        "    while (opc >0 and opc <5):\n",
        "        x = int(input(\"Ingrese Numero\\n\"))\n",
        "        y = int(input(\"Ingrese Otro Numero\\n\"))\n",
        "        if (opc==1):\n",
        "            print (\"La Suma es:\", x+y)\n",
        "            opc = int(input(\"Selecione Opcion\\n\"))\n",
        "        elif(opc==2):\n",
        "            print (\"La Resta es:\",x-y)\n",
        "            opc = int(input(\"Selecione Opcion\\n\"))\n",
        "        elif(opc==3):\n",
        "            print (\"La Multiplicacion es:\",x*y)\n",
        "            opc = int(input(\"Selecione Opcion\\n\"))\n",
        "        elif(opc==4):\n",
        "            try:\n",
        "              print (\"La Division es:\", x/y)\n",
        "              opc = int(input(\"Selecione Opcion\\n\"))\n",
        "            except ZeroDivisionError:\n",
        "              print (\"No se Permite la Division Entre 0\")\n",
        "              opc = int(input(\"Selecione Opcion\\n\"))\n",
        "Calculadora()\n"
      ],
      "execution_count": null,
      "outputs": []
    },
    {
      "cell_type": "code",
      "metadata": {
        "id": "rCV0-aA3vdu8",
        "colab_type": "code",
        "colab": {
          "base_uri": "https://localhost:8080/",
          "height": 90
        },
        "outputId": "5e567eaa-9edb-4b14-f9bc-0be9a8698240"
      },
      "source": [
        "correo = input('Ingrese un correo: ')\n",
        "if \"@\" in correo:\n",
        "  print(\"Es Valido\")\n",
        "  print(correo[:8])\n",
        "  print(correo[8:])\n",
        "else:\n",
        "  print(\"No es Valido\")\n"
      ],
      "execution_count": null,
      "outputs": [
        {
          "output_type": "stream",
          "text": [
            "Ingrese un correo: santiago@gmail.com\n",
            "Es Valido\n",
            "santiago\n",
            "@gmail.com\n"
          ],
          "name": "stdout"
        }
      ]
    }
  ]
}